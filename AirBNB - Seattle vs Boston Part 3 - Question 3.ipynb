{
 "cells": [
  {
   "cell_type": "code",
   "execution_count": 1,
   "metadata": {},
   "outputs": [],
   "source": [
    "import numpy as np \n",
    "import pandas as pd\n",
    "import matplotlib.pyplot as plt\n",
    "import seaborn as sns\n",
    "from sklearn.compose import ColumnTransformer\n",
    "from sklearn.preprocessing import OneHotEncoder\n",
    "from sklearn.metrics import r2_score, mean_squared_error\n",
    "%matplotlib inline\n",
    "\n",
    "pd.set_option('display.max_columns', None)"
   ]
  },
  {
   "cell_type": "markdown",
   "metadata": {},
   "source": [
    "## 1. Question 3: "
   ]
  },
  {
   "cell_type": "markdown",
   "metadata": {},
   "source": [
    "**Q3 : Can we predict price with some of the basic features? (Not more that 10 distinct features, maybe??)**"
   ]
  },
  {
   "cell_type": "code",
   "execution_count": 2,
   "metadata": {},
   "outputs": [
    {
     "data": {
      "text/html": [
       "<div>\n",
       "<style scoped>\n",
       "    .dataframe tbody tr th:only-of-type {\n",
       "        vertical-align: middle;\n",
       "    }\n",
       "\n",
       "    .dataframe tbody tr th {\n",
       "        vertical-align: top;\n",
       "    }\n",
       "\n",
       "    .dataframe thead th {\n",
       "        text-align: right;\n",
       "    }\n",
       "</style>\n",
       "<table border=\"1\" class=\"dataframe\">\n",
       "  <thead>\n",
       "    <tr style=\"text-align: right;\">\n",
       "      <th></th>\n",
       "      <th>id</th>\n",
       "      <th>listing_url</th>\n",
       "      <th>scrape_id</th>\n",
       "      <th>last_scraped</th>\n",
       "      <th>name</th>\n",
       "      <th>summary</th>\n",
       "      <th>space</th>\n",
       "      <th>description</th>\n",
       "      <th>experiences_offered</th>\n",
       "      <th>neighborhood_overview</th>\n",
       "      <th>notes</th>\n",
       "      <th>transit</th>\n",
       "      <th>access</th>\n",
       "      <th>interaction</th>\n",
       "      <th>house_rules</th>\n",
       "      <th>thumbnail_url</th>\n",
       "      <th>medium_url</th>\n",
       "      <th>picture_url</th>\n",
       "      <th>xl_picture_url</th>\n",
       "      <th>host_id</th>\n",
       "      <th>host_url</th>\n",
       "      <th>host_name</th>\n",
       "      <th>host_since</th>\n",
       "      <th>host_location</th>\n",
       "      <th>host_about</th>\n",
       "      <th>host_response_time</th>\n",
       "      <th>host_response_rate</th>\n",
       "      <th>host_acceptance_rate</th>\n",
       "      <th>host_is_superhost</th>\n",
       "      <th>host_thumbnail_url</th>\n",
       "      <th>host_picture_url</th>\n",
       "      <th>host_neighbourhood</th>\n",
       "      <th>host_listings_count</th>\n",
       "      <th>host_total_listings_count</th>\n",
       "      <th>host_verifications</th>\n",
       "      <th>host_has_profile_pic</th>\n",
       "      <th>host_identity_verified</th>\n",
       "      <th>street</th>\n",
       "      <th>neighbourhood</th>\n",
       "      <th>neighbourhood_cleansed</th>\n",
       "      <th>neighbourhood_group_cleansed</th>\n",
       "      <th>city</th>\n",
       "      <th>state</th>\n",
       "      <th>zipcode</th>\n",
       "      <th>market</th>\n",
       "      <th>smart_location</th>\n",
       "      <th>country_code</th>\n",
       "      <th>country</th>\n",
       "      <th>latitude</th>\n",
       "      <th>longitude</th>\n",
       "      <th>is_location_exact</th>\n",
       "      <th>property_type</th>\n",
       "      <th>room_type</th>\n",
       "      <th>accommodates</th>\n",
       "      <th>bathrooms</th>\n",
       "      <th>bedrooms</th>\n",
       "      <th>beds</th>\n",
       "      <th>bed_type</th>\n",
       "      <th>amenities</th>\n",
       "      <th>square_feet</th>\n",
       "      <th>price</th>\n",
       "      <th>weekly_price</th>\n",
       "      <th>monthly_price</th>\n",
       "      <th>security_deposit</th>\n",
       "      <th>cleaning_fee</th>\n",
       "      <th>guests_included</th>\n",
       "      <th>extra_people</th>\n",
       "      <th>minimum_nights</th>\n",
       "      <th>maximum_nights</th>\n",
       "      <th>minimum_minimum_nights</th>\n",
       "      <th>maximum_minimum_nights</th>\n",
       "      <th>minimum_maximum_nights</th>\n",
       "      <th>maximum_maximum_nights</th>\n",
       "      <th>minimum_nights_avg_ntm</th>\n",
       "      <th>maximum_nights_avg_ntm</th>\n",
       "      <th>calendar_updated</th>\n",
       "      <th>has_availability</th>\n",
       "      <th>availability_30</th>\n",
       "      <th>availability_60</th>\n",
       "      <th>availability_90</th>\n",
       "      <th>availability_365</th>\n",
       "      <th>calendar_last_scraped</th>\n",
       "      <th>number_of_reviews</th>\n",
       "      <th>number_of_reviews_ltm</th>\n",
       "      <th>first_review</th>\n",
       "      <th>last_review</th>\n",
       "      <th>review_scores_rating</th>\n",
       "      <th>review_scores_accuracy</th>\n",
       "      <th>review_scores_cleanliness</th>\n",
       "      <th>review_scores_checkin</th>\n",
       "      <th>review_scores_communication</th>\n",
       "      <th>review_scores_location</th>\n",
       "      <th>review_scores_value</th>\n",
       "      <th>requires_license</th>\n",
       "      <th>license</th>\n",
       "      <th>jurisdiction_names</th>\n",
       "      <th>instant_bookable</th>\n",
       "      <th>is_business_travel_ready</th>\n",
       "      <th>cancellation_policy</th>\n",
       "      <th>require_guest_profile_picture</th>\n",
       "      <th>require_guest_phone_verification</th>\n",
       "      <th>calculated_host_listings_count</th>\n",
       "      <th>calculated_host_listings_count_entire_homes</th>\n",
       "      <th>calculated_host_listings_count_private_rooms</th>\n",
       "      <th>calculated_host_listings_count_shared_rooms</th>\n",
       "      <th>reviews_per_month</th>\n",
       "    </tr>\n",
       "  </thead>\n",
       "  <tbody>\n",
       "    <tr>\n",
       "      <th>0</th>\n",
       "      <td>2318</td>\n",
       "      <td>https://www.airbnb.com/rooms/2318</td>\n",
       "      <td>20200521035945</td>\n",
       "      <td>2020-05-21</td>\n",
       "      <td>Casa Madrona - Urban Oasis 1 block from the park!</td>\n",
       "      <td>Gorgeous, architect remodeled, Dutch Colonial ...</td>\n",
       "      <td>This beautiful, gracious home has been complet...</td>\n",
       "      <td>Gorgeous, architect remodeled, Dutch Colonial ...</td>\n",
       "      <td>none</td>\n",
       "      <td>Madrona is a hidden gem of a neighborhood. It ...</td>\n",
       "      <td>We adhere to a 10pm -9am quiet hour schedule, ...</td>\n",
       "      <td>NaN</td>\n",
       "      <td>Guests can access any part of the house.</td>\n",
       "      <td>We are a family who live next door and are ava...</td>\n",
       "      <td>NaN</td>\n",
       "      <td>NaN</td>\n",
       "      <td>NaN</td>\n",
       "      <td>https://a0.muscache.com/im/pictures/02973ad3-a...</td>\n",
       "      <td>NaN</td>\n",
       "      <td>2536</td>\n",
       "      <td>https://www.airbnb.com/users/show/2536</td>\n",
       "      <td>Megan</td>\n",
       "      <td>2008-08-26</td>\n",
       "      <td>Seattle, Washington, United States</td>\n",
       "      <td>I welcome guests from all walks of life and ev...</td>\n",
       "      <td>within a few hours</td>\n",
       "      <td>67%</td>\n",
       "      <td>88%</td>\n",
       "      <td>t</td>\n",
       "      <td>https://a0.muscache.com/im/pictures/user/016a1...</td>\n",
       "      <td>https://a0.muscache.com/im/pictures/user/016a1...</td>\n",
       "      <td>Minor</td>\n",
       "      <td>2</td>\n",
       "      <td>2</td>\n",
       "      <td>['email', 'phone', 'reviews', 'jumio', 'offlin...</td>\n",
       "      <td>t</td>\n",
       "      <td>f</td>\n",
       "      <td>Seattle, WA, United States</td>\n",
       "      <td>Madrona</td>\n",
       "      <td>Madrona</td>\n",
       "      <td>Central Area</td>\n",
       "      <td>Seattle</td>\n",
       "      <td>WA</td>\n",
       "      <td>98122</td>\n",
       "      <td>Seattle</td>\n",
       "      <td>Seattle, WA</td>\n",
       "      <td>US</td>\n",
       "      <td>United States</td>\n",
       "      <td>47.61082</td>\n",
       "      <td>-122.29082</td>\n",
       "      <td>t</td>\n",
       "      <td>House</td>\n",
       "      <td>Entire home/apt</td>\n",
       "      <td>9</td>\n",
       "      <td>2.5</td>\n",
       "      <td>4.0</td>\n",
       "      <td>4.0</td>\n",
       "      <td>Real Bed</td>\n",
       "      <td>{Internet,Wifi,Kitchen,\"Free parking on premis...</td>\n",
       "      <td>NaN</td>\n",
       "      <td>$296.00</td>\n",
       "      <td>NaN</td>\n",
       "      <td>NaN</td>\n",
       "      <td>$500.00</td>\n",
       "      <td>$250.00</td>\n",
       "      <td>8</td>\n",
       "      <td>$25.00</td>\n",
       "      <td>1</td>\n",
       "      <td>1125</td>\n",
       "      <td>1</td>\n",
       "      <td>1</td>\n",
       "      <td>1125</td>\n",
       "      <td>1125</td>\n",
       "      <td>1.0</td>\n",
       "      <td>1125.0</td>\n",
       "      <td>today</td>\n",
       "      <td>t</td>\n",
       "      <td>29</td>\n",
       "      <td>59</td>\n",
       "      <td>89</td>\n",
       "      <td>132</td>\n",
       "      <td>2020-05-21</td>\n",
       "      <td>32</td>\n",
       "      <td>7</td>\n",
       "      <td>2008-09-15</td>\n",
       "      <td>2020-02-01</td>\n",
       "      <td>100.0</td>\n",
       "      <td>10.0</td>\n",
       "      <td>10.0</td>\n",
       "      <td>10.0</td>\n",
       "      <td>10.0</td>\n",
       "      <td>10.0</td>\n",
       "      <td>10.0</td>\n",
       "      <td>t</td>\n",
       "      <td>STR-OPLI-19-002837</td>\n",
       "      <td>{WASHINGTON,\" Seattle\",\" WA\"}</td>\n",
       "      <td>t</td>\n",
       "      <td>f</td>\n",
       "      <td>strict_14_with_grace_period</td>\n",
       "      <td>f</td>\n",
       "      <td>f</td>\n",
       "      <td>2</td>\n",
       "      <td>2</td>\n",
       "      <td>0</td>\n",
       "      <td>0</td>\n",
       "      <td>0.22</td>\n",
       "    </tr>\n",
       "    <tr>\n",
       "      <th>1</th>\n",
       "      <td>6606</td>\n",
       "      <td>https://www.airbnb.com/rooms/6606</td>\n",
       "      <td>20200521035945</td>\n",
       "      <td>2020-05-21</td>\n",
       "      <td>Fab, private seattle urban cottage!</td>\n",
       "      <td>This tiny cottage is only 15x10, but it has ev...</td>\n",
       "      <td>Soo centrally located, this is a little house ...</td>\n",
       "      <td>This tiny cottage is only 15x10, but it has ev...</td>\n",
       "      <td>none</td>\n",
       "      <td>A peaceful yet highly accessible neighborhood,...</td>\n",
       "      <td>Check in is at three, if you'd like a snack or...</td>\n",
       "      <td>NaN</td>\n",
       "      <td>NaN</td>\n",
       "      <td>I often escape to kingston and my place on the...</td>\n",
       "      <td>Please treat the cottage as if it were your ow...</td>\n",
       "      <td>NaN</td>\n",
       "      <td>NaN</td>\n",
       "      <td>https://a0.muscache.com/im/pictures/45742/2111...</td>\n",
       "      <td>NaN</td>\n",
       "      <td>14942</td>\n",
       "      <td>https://www.airbnb.com/users/show/14942</td>\n",
       "      <td>Joyce</td>\n",
       "      <td>2009-04-26</td>\n",
       "      <td>Seattle, Washington, United States</td>\n",
       "      <td>I am a therapist/innkeeper.I know my city well...</td>\n",
       "      <td>within an hour</td>\n",
       "      <td>100%</td>\n",
       "      <td>92%</td>\n",
       "      <td>f</td>\n",
       "      <td>https://a0.muscache.com/im/users/14942/profile...</td>\n",
       "      <td>https://a0.muscache.com/im/users/14942/profile...</td>\n",
       "      <td>Wallingford</td>\n",
       "      <td>5</td>\n",
       "      <td>5</td>\n",
       "      <td>['email', 'phone', 'facebook', 'reviews', 'kba']</td>\n",
       "      <td>t</td>\n",
       "      <td>t</td>\n",
       "      <td>Seattle, WA, United States</td>\n",
       "      <td>Wallingford</td>\n",
       "      <td>Wallingford</td>\n",
       "      <td>Other neighborhoods</td>\n",
       "      <td>Seattle</td>\n",
       "      <td>WA</td>\n",
       "      <td>98103</td>\n",
       "      <td>Seattle</td>\n",
       "      <td>Seattle, WA</td>\n",
       "      <td>US</td>\n",
       "      <td>United States</td>\n",
       "      <td>47.65411</td>\n",
       "      <td>-122.33761</td>\n",
       "      <td>t</td>\n",
       "      <td>Guesthouse</td>\n",
       "      <td>Entire home/apt</td>\n",
       "      <td>2</td>\n",
       "      <td>1.0</td>\n",
       "      <td>1.0</td>\n",
       "      <td>1.0</td>\n",
       "      <td>Real Bed</td>\n",
       "      <td>{TV,Internet,Wifi,\"Air conditioning\",Kitchen,\"...</td>\n",
       "      <td>NaN</td>\n",
       "      <td>$90.00</td>\n",
       "      <td>$670.00</td>\n",
       "      <td>NaN</td>\n",
       "      <td>$200.00</td>\n",
       "      <td>$40.00</td>\n",
       "      <td>2</td>\n",
       "      <td>$10.00</td>\n",
       "      <td>30</td>\n",
       "      <td>1125</td>\n",
       "      <td>30</td>\n",
       "      <td>30</td>\n",
       "      <td>1125</td>\n",
       "      <td>1125</td>\n",
       "      <td>30.0</td>\n",
       "      <td>1125.0</td>\n",
       "      <td>6 months ago</td>\n",
       "      <td>t</td>\n",
       "      <td>29</td>\n",
       "      <td>59</td>\n",
       "      <td>89</td>\n",
       "      <td>89</td>\n",
       "      <td>2020-05-21</td>\n",
       "      <td>150</td>\n",
       "      <td>14</td>\n",
       "      <td>2009-07-17</td>\n",
       "      <td>2019-09-28</td>\n",
       "      <td>92.0</td>\n",
       "      <td>9.0</td>\n",
       "      <td>9.0</td>\n",
       "      <td>10.0</td>\n",
       "      <td>10.0</td>\n",
       "      <td>10.0</td>\n",
       "      <td>9.0</td>\n",
       "      <td>t</td>\n",
       "      <td>NaN</td>\n",
       "      <td>{WASHINGTON,\" Seattle\",\" WA\"}</td>\n",
       "      <td>f</td>\n",
       "      <td>f</td>\n",
       "      <td>strict_14_with_grace_period</td>\n",
       "      <td>f</td>\n",
       "      <td>f</td>\n",
       "      <td>3</td>\n",
       "      <td>3</td>\n",
       "      <td>0</td>\n",
       "      <td>0</td>\n",
       "      <td>1.14</td>\n",
       "    </tr>\n",
       "    <tr>\n",
       "      <th>2</th>\n",
       "      <td>9419</td>\n",
       "      <td>https://www.airbnb.com/rooms/9419</td>\n",
       "      <td>20200521035945</td>\n",
       "      <td>2020-05-21</td>\n",
       "      <td>Glorious sun room w/ memory foambed</td>\n",
       "      <td>This beautiful double room features a magical ...</td>\n",
       "      <td>Our new Sunny space has a private room from th...</td>\n",
       "      <td>This beautiful double room features a magical ...</td>\n",
       "      <td>none</td>\n",
       "      <td>Lots of restaurants (see our guide book) bars,...</td>\n",
       "      <td>This area is an arts district,you will see all...</td>\n",
       "      <td>Car 2 go is in this neigborhood Bus is across ...</td>\n",
       "      <td>24 /7 access kitchen, bathroom and community s...</td>\n",
       "      <td>I have a hands on warm approach to guests but ...</td>\n",
       "      <td>No drugs,no smoking inside *outside in front o...</td>\n",
       "      <td>NaN</td>\n",
       "      <td>NaN</td>\n",
       "      <td>https://a0.muscache.com/im/pictures/56645186/e...</td>\n",
       "      <td>NaN</td>\n",
       "      <td>30559</td>\n",
       "      <td>https://www.airbnb.com/users/show/30559</td>\n",
       "      <td>Angielena</td>\n",
       "      <td>2009-08-09</td>\n",
       "      <td>Seattle, Washington, United States</td>\n",
       "      <td>I am a visual artist who is  the  director of ...</td>\n",
       "      <td>within a few hours</td>\n",
       "      <td>90%</td>\n",
       "      <td>91%</td>\n",
       "      <td>t</td>\n",
       "      <td>https://a0.muscache.com/im/users/30559/profile...</td>\n",
       "      <td>https://a0.muscache.com/im/users/30559/profile...</td>\n",
       "      <td>Georgetown</td>\n",
       "      <td>8</td>\n",
       "      <td>8</td>\n",
       "      <td>['email', 'phone', 'reviews', 'jumio', 'offlin...</td>\n",
       "      <td>t</td>\n",
       "      <td>t</td>\n",
       "      <td>Seattle, WA, United States</td>\n",
       "      <td>Georgetown</td>\n",
       "      <td>Georgetown</td>\n",
       "      <td>Other neighborhoods</td>\n",
       "      <td>Seattle</td>\n",
       "      <td>WA</td>\n",
       "      <td>98108</td>\n",
       "      <td>Seattle</td>\n",
       "      <td>Seattle, WA</td>\n",
       "      <td>US</td>\n",
       "      <td>United States</td>\n",
       "      <td>47.55017</td>\n",
       "      <td>-122.31937</td>\n",
       "      <td>t</td>\n",
       "      <td>Apartment</td>\n",
       "      <td>Private room</td>\n",
       "      <td>2</td>\n",
       "      <td>3.0</td>\n",
       "      <td>1.0</td>\n",
       "      <td>1.0</td>\n",
       "      <td>Real Bed</td>\n",
       "      <td>{Internet,Wifi,\"Air conditioning\",Kitchen,\"Fre...</td>\n",
       "      <td>200.0</td>\n",
       "      <td>$62.00</td>\n",
       "      <td>$580.00</td>\n",
       "      <td>$1,500.00</td>\n",
       "      <td>$100.00</td>\n",
       "      <td>$20.00</td>\n",
       "      <td>1</td>\n",
       "      <td>$15.00</td>\n",
       "      <td>2</td>\n",
       "      <td>180</td>\n",
       "      <td>2</td>\n",
       "      <td>2</td>\n",
       "      <td>180</td>\n",
       "      <td>180</td>\n",
       "      <td>2.0</td>\n",
       "      <td>180.0</td>\n",
       "      <td>3 months ago</td>\n",
       "      <td>t</td>\n",
       "      <td>29</td>\n",
       "      <td>59</td>\n",
       "      <td>89</td>\n",
       "      <td>364</td>\n",
       "      <td>2020-05-21</td>\n",
       "      <td>148</td>\n",
       "      <td>14</td>\n",
       "      <td>2010-07-30</td>\n",
       "      <td>2019-12-27</td>\n",
       "      <td>93.0</td>\n",
       "      <td>10.0</td>\n",
       "      <td>10.0</td>\n",
       "      <td>10.0</td>\n",
       "      <td>10.0</td>\n",
       "      <td>10.0</td>\n",
       "      <td>10.0</td>\n",
       "      <td>t</td>\n",
       "      <td>str-opli-19-003039</td>\n",
       "      <td>{WASHINGTON,\" Seattle\",\" WA\"}</td>\n",
       "      <td>f</td>\n",
       "      <td>f</td>\n",
       "      <td>moderate</td>\n",
       "      <td>t</td>\n",
       "      <td>t</td>\n",
       "      <td>7</td>\n",
       "      <td>0</td>\n",
       "      <td>7</td>\n",
       "      <td>0</td>\n",
       "      <td>1.24</td>\n",
       "    </tr>\n",
       "  </tbody>\n",
       "</table>\n",
       "</div>"
      ],
      "text/plain": [
       "     id                        listing_url       scrape_id last_scraped  \\\n",
       "0  2318  https://www.airbnb.com/rooms/2318  20200521035945   2020-05-21   \n",
       "1  6606  https://www.airbnb.com/rooms/6606  20200521035945   2020-05-21   \n",
       "2  9419  https://www.airbnb.com/rooms/9419  20200521035945   2020-05-21   \n",
       "\n",
       "                                                name  \\\n",
       "0  Casa Madrona - Urban Oasis 1 block from the park!   \n",
       "1                Fab, private seattle urban cottage!   \n",
       "2                Glorious sun room w/ memory foambed   \n",
       "\n",
       "                                             summary  \\\n",
       "0  Gorgeous, architect remodeled, Dutch Colonial ...   \n",
       "1  This tiny cottage is only 15x10, but it has ev...   \n",
       "2  This beautiful double room features a magical ...   \n",
       "\n",
       "                                               space  \\\n",
       "0  This beautiful, gracious home has been complet...   \n",
       "1  Soo centrally located, this is a little house ...   \n",
       "2  Our new Sunny space has a private room from th...   \n",
       "\n",
       "                                         description experiences_offered  \\\n",
       "0  Gorgeous, architect remodeled, Dutch Colonial ...                none   \n",
       "1  This tiny cottage is only 15x10, but it has ev...                none   \n",
       "2  This beautiful double room features a magical ...                none   \n",
       "\n",
       "                               neighborhood_overview  \\\n",
       "0  Madrona is a hidden gem of a neighborhood. It ...   \n",
       "1  A peaceful yet highly accessible neighborhood,...   \n",
       "2  Lots of restaurants (see our guide book) bars,...   \n",
       "\n",
       "                                               notes  \\\n",
       "0  We adhere to a 10pm -9am quiet hour schedule, ...   \n",
       "1  Check in is at three, if you'd like a snack or...   \n",
       "2  This area is an arts district,you will see all...   \n",
       "\n",
       "                                             transit  \\\n",
       "0                                                NaN   \n",
       "1                                                NaN   \n",
       "2  Car 2 go is in this neigborhood Bus is across ...   \n",
       "\n",
       "                                              access  \\\n",
       "0           Guests can access any part of the house.   \n",
       "1                                                NaN   \n",
       "2  24 /7 access kitchen, bathroom and community s...   \n",
       "\n",
       "                                         interaction  \\\n",
       "0  We are a family who live next door and are ava...   \n",
       "1  I often escape to kingston and my place on the...   \n",
       "2  I have a hands on warm approach to guests but ...   \n",
       "\n",
       "                                         house_rules  thumbnail_url  \\\n",
       "0                                                NaN            NaN   \n",
       "1  Please treat the cottage as if it were your ow...            NaN   \n",
       "2  No drugs,no smoking inside *outside in front o...            NaN   \n",
       "\n",
       "   medium_url                                        picture_url  \\\n",
       "0         NaN  https://a0.muscache.com/im/pictures/02973ad3-a...   \n",
       "1         NaN  https://a0.muscache.com/im/pictures/45742/2111...   \n",
       "2         NaN  https://a0.muscache.com/im/pictures/56645186/e...   \n",
       "\n",
       "   xl_picture_url  host_id                                 host_url  \\\n",
       "0             NaN     2536   https://www.airbnb.com/users/show/2536   \n",
       "1             NaN    14942  https://www.airbnb.com/users/show/14942   \n",
       "2             NaN    30559  https://www.airbnb.com/users/show/30559   \n",
       "\n",
       "   host_name  host_since                       host_location  \\\n",
       "0      Megan  2008-08-26  Seattle, Washington, United States   \n",
       "1      Joyce  2009-04-26  Seattle, Washington, United States   \n",
       "2  Angielena  2009-08-09  Seattle, Washington, United States   \n",
       "\n",
       "                                          host_about  host_response_time  \\\n",
       "0  I welcome guests from all walks of life and ev...  within a few hours   \n",
       "1  I am a therapist/innkeeper.I know my city well...      within an hour   \n",
       "2  I am a visual artist who is  the  director of ...  within a few hours   \n",
       "\n",
       "  host_response_rate host_acceptance_rate host_is_superhost  \\\n",
       "0                67%                  88%                 t   \n",
       "1               100%                  92%                 f   \n",
       "2                90%                  91%                 t   \n",
       "\n",
       "                                  host_thumbnail_url  \\\n",
       "0  https://a0.muscache.com/im/pictures/user/016a1...   \n",
       "1  https://a0.muscache.com/im/users/14942/profile...   \n",
       "2  https://a0.muscache.com/im/users/30559/profile...   \n",
       "\n",
       "                                    host_picture_url host_neighbourhood  \\\n",
       "0  https://a0.muscache.com/im/pictures/user/016a1...              Minor   \n",
       "1  https://a0.muscache.com/im/users/14942/profile...        Wallingford   \n",
       "2  https://a0.muscache.com/im/users/30559/profile...         Georgetown   \n",
       "\n",
       "   host_listings_count  host_total_listings_count  \\\n",
       "0                    2                          2   \n",
       "1                    5                          5   \n",
       "2                    8                          8   \n",
       "\n",
       "                                  host_verifications host_has_profile_pic  \\\n",
       "0  ['email', 'phone', 'reviews', 'jumio', 'offlin...                    t   \n",
       "1   ['email', 'phone', 'facebook', 'reviews', 'kba']                    t   \n",
       "2  ['email', 'phone', 'reviews', 'jumio', 'offlin...                    t   \n",
       "\n",
       "  host_identity_verified                      street neighbourhood  \\\n",
       "0                      f  Seattle, WA, United States       Madrona   \n",
       "1                      t  Seattle, WA, United States   Wallingford   \n",
       "2                      t  Seattle, WA, United States    Georgetown   \n",
       "\n",
       "  neighbourhood_cleansed neighbourhood_group_cleansed     city state zipcode  \\\n",
       "0                Madrona                 Central Area  Seattle    WA   98122   \n",
       "1            Wallingford          Other neighborhoods  Seattle    WA   98103   \n",
       "2             Georgetown          Other neighborhoods  Seattle    WA   98108   \n",
       "\n",
       "    market smart_location country_code        country  latitude  longitude  \\\n",
       "0  Seattle    Seattle, WA           US  United States  47.61082 -122.29082   \n",
       "1  Seattle    Seattle, WA           US  United States  47.65411 -122.33761   \n",
       "2  Seattle    Seattle, WA           US  United States  47.55017 -122.31937   \n",
       "\n",
       "  is_location_exact property_type        room_type  accommodates  bathrooms  \\\n",
       "0                 t         House  Entire home/apt             9        2.5   \n",
       "1                 t    Guesthouse  Entire home/apt             2        1.0   \n",
       "2                 t     Apartment     Private room             2        3.0   \n",
       "\n",
       "   bedrooms  beds  bed_type  \\\n",
       "0       4.0   4.0  Real Bed   \n",
       "1       1.0   1.0  Real Bed   \n",
       "2       1.0   1.0  Real Bed   \n",
       "\n",
       "                                           amenities  square_feet    price  \\\n",
       "0  {Internet,Wifi,Kitchen,\"Free parking on premis...          NaN  $296.00   \n",
       "1  {TV,Internet,Wifi,\"Air conditioning\",Kitchen,\"...          NaN   $90.00   \n",
       "2  {Internet,Wifi,\"Air conditioning\",Kitchen,\"Fre...        200.0   $62.00   \n",
       "\n",
       "  weekly_price monthly_price security_deposit cleaning_fee  guests_included  \\\n",
       "0          NaN           NaN          $500.00      $250.00                8   \n",
       "1      $670.00           NaN          $200.00       $40.00                2   \n",
       "2      $580.00     $1,500.00          $100.00       $20.00                1   \n",
       "\n",
       "  extra_people  minimum_nights  maximum_nights  minimum_minimum_nights  \\\n",
       "0       $25.00               1            1125                       1   \n",
       "1       $10.00              30            1125                      30   \n",
       "2       $15.00               2             180                       2   \n",
       "\n",
       "   maximum_minimum_nights  minimum_maximum_nights  maximum_maximum_nights  \\\n",
       "0                       1                    1125                    1125   \n",
       "1                      30                    1125                    1125   \n",
       "2                       2                     180                     180   \n",
       "\n",
       "   minimum_nights_avg_ntm  maximum_nights_avg_ntm calendar_updated  \\\n",
       "0                     1.0                  1125.0            today   \n",
       "1                    30.0                  1125.0     6 months ago   \n",
       "2                     2.0                   180.0     3 months ago   \n",
       "\n",
       "  has_availability  availability_30  availability_60  availability_90  \\\n",
       "0                t               29               59               89   \n",
       "1                t               29               59               89   \n",
       "2                t               29               59               89   \n",
       "\n",
       "   availability_365 calendar_last_scraped  number_of_reviews  \\\n",
       "0               132            2020-05-21                 32   \n",
       "1                89            2020-05-21                150   \n",
       "2               364            2020-05-21                148   \n",
       "\n",
       "   number_of_reviews_ltm first_review last_review  review_scores_rating  \\\n",
       "0                      7   2008-09-15  2020-02-01                 100.0   \n",
       "1                     14   2009-07-17  2019-09-28                  92.0   \n",
       "2                     14   2010-07-30  2019-12-27                  93.0   \n",
       "\n",
       "   review_scores_accuracy  review_scores_cleanliness  review_scores_checkin  \\\n",
       "0                    10.0                       10.0                   10.0   \n",
       "1                     9.0                        9.0                   10.0   \n",
       "2                    10.0                       10.0                   10.0   \n",
       "\n",
       "   review_scores_communication  review_scores_location  review_scores_value  \\\n",
       "0                         10.0                    10.0                 10.0   \n",
       "1                         10.0                    10.0                  9.0   \n",
       "2                         10.0                    10.0                 10.0   \n",
       "\n",
       "  requires_license             license             jurisdiction_names  \\\n",
       "0                t  STR-OPLI-19-002837  {WASHINGTON,\" Seattle\",\" WA\"}   \n",
       "1                t                 NaN  {WASHINGTON,\" Seattle\",\" WA\"}   \n",
       "2                t  str-opli-19-003039  {WASHINGTON,\" Seattle\",\" WA\"}   \n",
       "\n",
       "  instant_bookable is_business_travel_ready          cancellation_policy  \\\n",
       "0                t                        f  strict_14_with_grace_period   \n",
       "1                f                        f  strict_14_with_grace_period   \n",
       "2                f                        f                     moderate   \n",
       "\n",
       "  require_guest_profile_picture require_guest_phone_verification  \\\n",
       "0                             f                                f   \n",
       "1                             f                                f   \n",
       "2                             t                                t   \n",
       "\n",
       "   calculated_host_listings_count  \\\n",
       "0                               2   \n",
       "1                               3   \n",
       "2                               7   \n",
       "\n",
       "   calculated_host_listings_count_entire_homes  \\\n",
       "0                                            2   \n",
       "1                                            3   \n",
       "2                                            0   \n",
       "\n",
       "   calculated_host_listings_count_private_rooms  \\\n",
       "0                                             0   \n",
       "1                                             0   \n",
       "2                                             7   \n",
       "\n",
       "   calculated_host_listings_count_shared_rooms  reviews_per_month  \n",
       "0                                            0               0.22  \n",
       "1                                            0               1.14  \n",
       "2                                            0               1.24  "
      ]
     },
     "execution_count": 2,
     "metadata": {},
     "output_type": "execute_result"
    }
   ],
   "source": [
    "seattle_listings = pd.read_csv('data/seattle/listings.csv')\n",
    "seattle_listings.head(3)"
   ]
  },
  {
   "cell_type": "markdown",
   "metadata": {},
   "source": [
    "### 1.1. Price Column Cleaning and Outlier Cleaning:"
   ]
  },
  {
   "cell_type": "markdown",
   "metadata": {},
   "source": [
    "**Before we start, we should drop the outlier priced houses**"
   ]
  },
  {
   "cell_type": "code",
   "execution_count": 3,
   "metadata": {},
   "outputs": [],
   "source": [
    "seattle_listings['price'] = seattle_listings['price'].map(lambda x: int(x[1:-3].replace(\",\", \"\")))"
   ]
  },
  {
   "cell_type": "code",
   "execution_count": 4,
   "metadata": {},
   "outputs": [
    {
     "data": {
      "text/plain": [
       "<matplotlib.axes._subplots.AxesSubplot at 0x275e4176400>"
      ]
     },
     "execution_count": 4,
     "metadata": {},
     "output_type": "execute_result"
    },
    {
     "data": {
      "image/png": "[encoded data removed]",
      "text/plain": [
       "<Figure size 432x288 with 1 Axes>"
      ]
     },
     "metadata": {
      "needs_background": "light"
     },
     "output_type": "display_data"
    }
   ],
   "source": [
    "sns.boxplot(x='price', data=seattle_listings)"
   ]
  },
  {
   "cell_type": "markdown",
   "metadata": {},
   "source": [
    "As you can see, I multiplied IQR with 3 to not eliminate many outliers. (As I know status quo says that, > IQR * 1.5 + 3rd QR gives outliers; but I multiplied with 3 to not eliminate many data points)"
   ]
  },
  {
   "cell_type": "code",
   "execution_count": 5,
   "metadata": {},
   "outputs": [
    {
     "data": {
      "text/plain": [
       "483.0"
      ]
     },
     "execution_count": 5,
     "metadata": {},
     "output_type": "execute_result"
    }
   ],
   "source": [
    "first_quartile = seattle_listings['price'].quantile(0.25)\n",
    "third_quartile = seattle_listings['price'].quantile(0.75)\n",
    "threshold_upper = 3 * (third_quartile - first_quartile) + third_quartile\n",
    "threshold_upper"
   ]
  },
  {
   "cell_type": "code",
   "execution_count": 6,
   "metadata": {},
   "outputs": [],
   "source": [
    "seattle_listings = seattle_listings.loc[seattle_listings['price'] <= threshold_upper, :]"
   ]
  },
  {
   "cell_type": "code",
   "execution_count": 7,
   "metadata": {},
   "outputs": [],
   "source": [
    "X = seattle_listings[['host_response_time', 'host_response_rate', 'neighbourhood_group_cleansed', 'property_type', 'bathrooms',\n",
    "                      'bedrooms', 'beds', 'square_feet', 'number_of_reviews', 'review_scores_rating']]\n",
    "y = seattle_listings['price']"
   ]
  },
  {
   "cell_type": "code",
   "execution_count": 8,
   "metadata": {},
   "outputs": [
    {
     "name": "stderr",
     "output_type": "stream",
     "text": [
      "C:\\Users\\Tahsin\\Anaconda3\\envs\\py36\\lib\\site-packages\\pandas\\core\\frame.py:4133: SettingWithCopyWarning: \n",
      "A value is trying to be set on a copy of a slice from a DataFrame\n",
      "\n",
      "See the caveats in the documentation: https://pandas.pydata.org/pandas-docs/stable/user_guide/indexing.html#returning-a-view-versus-a-copy\n",
      "  errors=errors,\n"
     ]
    }
   ],
   "source": [
    "X.rename(columns= lambda s: s.replace('\"', '').strip().capitalize(), inplace=True)"
   ]
  },
  {
   "cell_type": "code",
   "execution_count": 9,
   "metadata": {},
   "outputs": [
    {
     "data": {
      "text/html": [
       "<div>\n",
       "<style scoped>\n",
       "    .dataframe tbody tr th:only-of-type {\n",
       "        vertical-align: middle;\n",
       "    }\n",
       "\n",
       "    .dataframe tbody tr th {\n",
       "        vertical-align: top;\n",
       "    }\n",
       "\n",
       "    .dataframe thead th {\n",
       "        text-align: right;\n",
       "    }\n",
       "</style>\n",
       "<table border=\"1\" class=\"dataframe\">\n",
       "  <thead>\n",
       "    <tr style=\"text-align: right;\">\n",
       "      <th></th>\n",
       "      <th>Host_response_time</th>\n",
       "      <th>Host_response_rate</th>\n",
       "      <th>Neighbourhood_group_cleansed</th>\n",
       "      <th>Property_type</th>\n",
       "      <th>Bathrooms</th>\n",
       "      <th>Bedrooms</th>\n",
       "      <th>Beds</th>\n",
       "      <th>Square_feet</th>\n",
       "      <th>Number_of_reviews</th>\n",
       "      <th>Review_scores_rating</th>\n",
       "    </tr>\n",
       "  </thead>\n",
       "  <tbody>\n",
       "    <tr>\n",
       "      <th>0</th>\n",
       "      <td>within a few hours</td>\n",
       "      <td>67%</td>\n",
       "      <td>Central Area</td>\n",
       "      <td>House</td>\n",
       "      <td>2.5</td>\n",
       "      <td>4.0</td>\n",
       "      <td>4.0</td>\n",
       "      <td>NaN</td>\n",
       "      <td>32</td>\n",
       "      <td>100.0</td>\n",
       "    </tr>\n",
       "    <tr>\n",
       "      <th>1</th>\n",
       "      <td>within an hour</td>\n",
       "      <td>100%</td>\n",
       "      <td>Other neighborhoods</td>\n",
       "      <td>Guesthouse</td>\n",
       "      <td>1.0</td>\n",
       "      <td>1.0</td>\n",
       "      <td>1.0</td>\n",
       "      <td>NaN</td>\n",
       "      <td>150</td>\n",
       "      <td>92.0</td>\n",
       "    </tr>\n",
       "    <tr>\n",
       "      <th>2</th>\n",
       "      <td>within a few hours</td>\n",
       "      <td>90%</td>\n",
       "      <td>Other neighborhoods</td>\n",
       "      <td>Apartment</td>\n",
       "      <td>3.0</td>\n",
       "      <td>1.0</td>\n",
       "      <td>1.0</td>\n",
       "      <td>200.0</td>\n",
       "      <td>148</td>\n",
       "      <td>93.0</td>\n",
       "    </tr>\n",
       "    <tr>\n",
       "      <th>3</th>\n",
       "      <td>within an hour</td>\n",
       "      <td>100%</td>\n",
       "      <td>West Seattle</td>\n",
       "      <td>House</td>\n",
       "      <td>1.0</td>\n",
       "      <td>2.0</td>\n",
       "      <td>3.0</td>\n",
       "      <td>1200.0</td>\n",
       "      <td>40</td>\n",
       "      <td>100.0</td>\n",
       "    </tr>\n",
       "    <tr>\n",
       "      <th>4</th>\n",
       "      <td>within an hour</td>\n",
       "      <td>100%</td>\n",
       "      <td>West Seattle</td>\n",
       "      <td>Guest suite</td>\n",
       "      <td>1.0</td>\n",
       "      <td>2.0</td>\n",
       "      <td>2.0</td>\n",
       "      <td>NaN</td>\n",
       "      <td>50</td>\n",
       "      <td>100.0</td>\n",
       "    </tr>\n",
       "  </tbody>\n",
       "</table>\n",
       "</div>"
      ],
      "text/plain": [
       "   Host_response_time Host_response_rate Neighbourhood_group_cleansed  \\\n",
       "0  within a few hours                67%                 Central Area   \n",
       "1      within an hour               100%          Other neighborhoods   \n",
       "2  within a few hours                90%          Other neighborhoods   \n",
       "3      within an hour               100%                 West Seattle   \n",
       "4      within an hour               100%                 West Seattle   \n",
       "\n",
       "  Property_type  Bathrooms  Bedrooms  Beds  Square_feet  Number_of_reviews  \\\n",
       "0         House        2.5       4.0   4.0          NaN                 32   \n",
       "1    Guesthouse        1.0       1.0   1.0          NaN                150   \n",
       "2     Apartment        3.0       1.0   1.0        200.0                148   \n",
       "3         House        1.0       2.0   3.0       1200.0                 40   \n",
       "4   Guest suite        1.0       2.0   2.0          NaN                 50   \n",
       "\n",
       "   Review_scores_rating  \n",
       "0                 100.0  \n",
       "1                  92.0  \n",
       "2                  93.0  \n",
       "3                 100.0  \n",
       "4                 100.0  "
      ]
     },
     "execution_count": 9,
     "metadata": {},
     "output_type": "execute_result"
    }
   ],
   "source": [
    "X.head()"
   ]
  },
  {
   "cell_type": "markdown",
   "metadata": {},
   "source": [
    "### 1.2. Splitting the dataset into the Training set and Test set "
   ]
  },
  {
   "cell_type": "code",
   "execution_count": 10,
   "metadata": {},
   "outputs": [],
   "source": [
    "from sklearn.model_selection import train_test_split\n",
    "X_train, X_test, y_train, y_test = train_test_split(X, y, test_size = 0.2, random_state = 0)"
   ]
  },
  {
   "cell_type": "code",
   "execution_count": 11,
   "metadata": {},
   "outputs": [
    {
     "data": {
      "text/plain": [
       "((5432, 10), (5432,), (1359, 10), (1359,))"
      ]
     },
     "execution_count": 11,
     "metadata": {},
     "output_type": "execute_result"
    }
   ],
   "source": [
    "X_train.shape, y_train.shape, X_test.shape, y_test.shape"
   ]
  },
  {
   "cell_type": "markdown",
   "metadata": {},
   "source": [
    "### 1.3. Taking Care Of Missing Data "
   ]
  },
  {
   "cell_type": "code",
   "execution_count": 12,
   "metadata": {},
   "outputs": [
    {
     "data": {
      "text/plain": [
       "Host_response_time              0.252209\n",
       "Host_response_rate              0.252209\n",
       "Neighbourhood_group_cleansed    0.000000\n",
       "Property_type                   0.000000\n",
       "Bathrooms                       0.000000\n",
       "Bedrooms                        0.000552\n",
       "Beds                            0.010125\n",
       "Square_feet                     0.965943\n",
       "Number_of_reviews               0.000000\n",
       "Review_scores_rating            0.138623\n",
       "dtype: float64"
      ]
     },
     "execution_count": 12,
     "metadata": {},
     "output_type": "execute_result"
    }
   ],
   "source": [
    "X_train.isna().sum() / X_train.shape[0]"
   ]
  },
  {
   "cell_type": "code",
   "execution_count": 13,
   "metadata": {},
   "outputs": [
    {
     "name": "stderr",
     "output_type": "stream",
     "text": [
      "C:\\Users\\Tahsin\\Anaconda3\\envs\\py36\\lib\\site-packages\\pandas\\core\\frame.py:3997: SettingWithCopyWarning: \n",
      "A value is trying to be set on a copy of a slice from a DataFrame\n",
      "\n",
      "See the caveats in the documentation: https://pandas.pydata.org/pandas-docs/stable/user_guide/indexing.html#returning-a-view-versus-a-copy\n",
      "  errors=errors,\n"
     ]
    }
   ],
   "source": [
    "X_train.drop(\"Square_feet\", axis=1, inplace=True)\n",
    "X_test.drop(\"Square_feet\", axis=1, inplace=True)"
   ]
  },
  {
   "cell_type": "code",
   "execution_count": 14,
   "metadata": {},
   "outputs": [
    {
     "data": {
      "text/html": [
       "<div>\n",
       "<style scoped>\n",
       "    .dataframe tbody tr th:only-of-type {\n",
       "        vertical-align: middle;\n",
       "    }\n",
       "\n",
       "    .dataframe tbody tr th {\n",
       "        vertical-align: top;\n",
       "    }\n",
       "\n",
       "    .dataframe thead th {\n",
       "        text-align: right;\n",
       "    }\n",
       "</style>\n",
       "<table border=\"1\" class=\"dataframe\">\n",
       "  <thead>\n",
       "    <tr style=\"text-align: right;\">\n",
       "      <th></th>\n",
       "      <th>Host_response_time</th>\n",
       "      <th>Host_response_rate</th>\n",
       "      <th>Bedrooms</th>\n",
       "      <th>Beds</th>\n",
       "      <th>Review_scores_rating</th>\n",
       "    </tr>\n",
       "  </thead>\n",
       "  <tbody>\n",
       "    <tr>\n",
       "      <th>3764</th>\n",
       "      <td>NaN</td>\n",
       "      <td>NaN</td>\n",
       "      <td>2.0</td>\n",
       "      <td>2.0</td>\n",
       "      <td>89.0</td>\n",
       "    </tr>\n",
       "    <tr>\n",
       "      <th>3542</th>\n",
       "      <td>NaN</td>\n",
       "      <td>NaN</td>\n",
       "      <td>1.0</td>\n",
       "      <td>2.0</td>\n",
       "      <td>96.0</td>\n",
       "    </tr>\n",
       "    <tr>\n",
       "      <th>6168</th>\n",
       "      <td>within an hour</td>\n",
       "      <td>100%</td>\n",
       "      <td>2.0</td>\n",
       "      <td>2.0</td>\n",
       "      <td>96.0</td>\n",
       "    </tr>\n",
       "    <tr>\n",
       "      <th>634</th>\n",
       "      <td>within an hour</td>\n",
       "      <td>100%</td>\n",
       "      <td>1.0</td>\n",
       "      <td>1.0</td>\n",
       "      <td>95.0</td>\n",
       "    </tr>\n",
       "    <tr>\n",
       "      <th>4712</th>\n",
       "      <td>within an hour</td>\n",
       "      <td>100%</td>\n",
       "      <td>1.0</td>\n",
       "      <td>1.0</td>\n",
       "      <td>100.0</td>\n",
       "    </tr>\n",
       "    <tr>\n",
       "      <th>...</th>\n",
       "      <td>...</td>\n",
       "      <td>...</td>\n",
       "      <td>...</td>\n",
       "      <td>...</td>\n",
       "      <td>...</td>\n",
       "    </tr>\n",
       "    <tr>\n",
       "      <th>5065</th>\n",
       "      <td>within an hour</td>\n",
       "      <td>100%</td>\n",
       "      <td>1.0</td>\n",
       "      <td>1.0</td>\n",
       "      <td>NaN</td>\n",
       "    </tr>\n",
       "    <tr>\n",
       "      <th>3356</th>\n",
       "      <td>NaN</td>\n",
       "      <td>NaN</td>\n",
       "      <td>2.0</td>\n",
       "      <td>2.0</td>\n",
       "      <td>NaN</td>\n",
       "    </tr>\n",
       "    <tr>\n",
       "      <th>1693</th>\n",
       "      <td>NaN</td>\n",
       "      <td>NaN</td>\n",
       "      <td>1.0</td>\n",
       "      <td>1.0</td>\n",
       "      <td>93.0</td>\n",
       "    </tr>\n",
       "    <tr>\n",
       "      <th>2676</th>\n",
       "      <td>NaN</td>\n",
       "      <td>NaN</td>\n",
       "      <td>2.0</td>\n",
       "      <td>2.0</td>\n",
       "      <td>89.0</td>\n",
       "    </tr>\n",
       "    <tr>\n",
       "      <th>2809</th>\n",
       "      <td>NaN</td>\n",
       "      <td>NaN</td>\n",
       "      <td>1.0</td>\n",
       "      <td>1.0</td>\n",
       "      <td>NaN</td>\n",
       "    </tr>\n",
       "  </tbody>\n",
       "</table>\n",
       "<p>5432 rows × 5 columns</p>\n",
       "</div>"
      ],
      "text/plain": [
       "     Host_response_time Host_response_rate  Bedrooms  Beds  \\\n",
       "3764                NaN                NaN       2.0   2.0   \n",
       "3542                NaN                NaN       1.0   2.0   \n",
       "6168     within an hour               100%       2.0   2.0   \n",
       "634      within an hour               100%       1.0   1.0   \n",
       "4712     within an hour               100%       1.0   1.0   \n",
       "...                 ...                ...       ...   ...   \n",
       "5065     within an hour               100%       1.0   1.0   \n",
       "3356                NaN                NaN       2.0   2.0   \n",
       "1693                NaN                NaN       1.0   1.0   \n",
       "2676                NaN                NaN       2.0   2.0   \n",
       "2809                NaN                NaN       1.0   1.0   \n",
       "\n",
       "      Review_scores_rating  \n",
       "3764                  89.0  \n",
       "3542                  96.0  \n",
       "6168                  96.0  \n",
       "634                   95.0  \n",
       "4712                 100.0  \n",
       "...                    ...  \n",
       "5065                   NaN  \n",
       "3356                   NaN  \n",
       "1693                  93.0  \n",
       "2676                  89.0  \n",
       "2809                   NaN  \n",
       "\n",
       "[5432 rows x 5 columns]"
      ]
     },
     "execution_count": 14,
     "metadata": {},
     "output_type": "execute_result"
    }
   ],
   "source": [
    "X_train.loc[:, X_train.isna().any()]"
   ]
  },
  {
   "cell_type": "code",
   "execution_count": 15,
   "metadata": {},
   "outputs": [
    {
     "data": {
      "text/html": [
       "<div>\n",
       "<style scoped>\n",
       "    .dataframe tbody tr th:only-of-type {\n",
       "        vertical-align: middle;\n",
       "    }\n",
       "\n",
       "    .dataframe tbody tr th {\n",
       "        vertical-align: top;\n",
       "    }\n",
       "\n",
       "    .dataframe thead th {\n",
       "        text-align: right;\n",
       "    }\n",
       "</style>\n",
       "<table border=\"1\" class=\"dataframe\">\n",
       "  <thead>\n",
       "    <tr style=\"text-align: right;\">\n",
       "      <th></th>\n",
       "      <th>Host_response_time</th>\n",
       "      <th>Host_response_rate</th>\n",
       "      <th>Bedrooms</th>\n",
       "      <th>Beds</th>\n",
       "      <th>Review_scores_rating</th>\n",
       "    </tr>\n",
       "  </thead>\n",
       "  <tbody>\n",
       "    <tr>\n",
       "      <th>4707</th>\n",
       "      <td>NaN</td>\n",
       "      <td>NaN</td>\n",
       "      <td>0.0</td>\n",
       "      <td>1.0</td>\n",
       "      <td>80.0</td>\n",
       "    </tr>\n",
       "    <tr>\n",
       "      <th>2058</th>\n",
       "      <td>NaN</td>\n",
       "      <td>NaN</td>\n",
       "      <td>1.0</td>\n",
       "      <td>1.0</td>\n",
       "      <td>99.0</td>\n",
       "    </tr>\n",
       "    <tr>\n",
       "      <th>3602</th>\n",
       "      <td>NaN</td>\n",
       "      <td>NaN</td>\n",
       "      <td>2.0</td>\n",
       "      <td>2.0</td>\n",
       "      <td>94.0</td>\n",
       "    </tr>\n",
       "    <tr>\n",
       "      <th>2291</th>\n",
       "      <td>within an hour</td>\n",
       "      <td>100%</td>\n",
       "      <td>0.0</td>\n",
       "      <td>1.0</td>\n",
       "      <td>90.0</td>\n",
       "    </tr>\n",
       "    <tr>\n",
       "      <th>6182</th>\n",
       "      <td>within an hour</td>\n",
       "      <td>100%</td>\n",
       "      <td>2.0</td>\n",
       "      <td>3.0</td>\n",
       "      <td>100.0</td>\n",
       "    </tr>\n",
       "    <tr>\n",
       "      <th>...</th>\n",
       "      <td>...</td>\n",
       "      <td>...</td>\n",
       "      <td>...</td>\n",
       "      <td>...</td>\n",
       "      <td>...</td>\n",
       "    </tr>\n",
       "    <tr>\n",
       "      <th>3144</th>\n",
       "      <td>NaN</td>\n",
       "      <td>NaN</td>\n",
       "      <td>1.0</td>\n",
       "      <td>1.0</td>\n",
       "      <td>90.0</td>\n",
       "    </tr>\n",
       "    <tr>\n",
       "      <th>89</th>\n",
       "      <td>within a few hours</td>\n",
       "      <td>100%</td>\n",
       "      <td>1.0</td>\n",
       "      <td>1.0</td>\n",
       "      <td>94.0</td>\n",
       "    </tr>\n",
       "    <tr>\n",
       "      <th>4629</th>\n",
       "      <td>NaN</td>\n",
       "      <td>NaN</td>\n",
       "      <td>1.0</td>\n",
       "      <td>2.0</td>\n",
       "      <td>NaN</td>\n",
       "    </tr>\n",
       "    <tr>\n",
       "      <th>1828</th>\n",
       "      <td>NaN</td>\n",
       "      <td>NaN</td>\n",
       "      <td>3.0</td>\n",
       "      <td>4.0</td>\n",
       "      <td>96.0</td>\n",
       "    </tr>\n",
       "    <tr>\n",
       "      <th>5286</th>\n",
       "      <td>within an hour</td>\n",
       "      <td>98%</td>\n",
       "      <td>1.0</td>\n",
       "      <td>1.0</td>\n",
       "      <td>87.0</td>\n",
       "    </tr>\n",
       "  </tbody>\n",
       "</table>\n",
       "<p>1359 rows × 5 columns</p>\n",
       "</div>"
      ],
      "text/plain": [
       "      Host_response_time Host_response_rate  Bedrooms  Beds  \\\n",
       "4707                 NaN                NaN       0.0   1.0   \n",
       "2058                 NaN                NaN       1.0   1.0   \n",
       "3602                 NaN                NaN       2.0   2.0   \n",
       "2291      within an hour               100%       0.0   1.0   \n",
       "6182      within an hour               100%       2.0   3.0   \n",
       "...                  ...                ...       ...   ...   \n",
       "3144                 NaN                NaN       1.0   1.0   \n",
       "89    within a few hours               100%       1.0   1.0   \n",
       "4629                 NaN                NaN       1.0   2.0   \n",
       "1828                 NaN                NaN       3.0   4.0   \n",
       "5286      within an hour                98%       1.0   1.0   \n",
       "\n",
       "      Review_scores_rating  \n",
       "4707                  80.0  \n",
       "2058                  99.0  \n",
       "3602                  94.0  \n",
       "2291                  90.0  \n",
       "6182                 100.0  \n",
       "...                    ...  \n",
       "3144                  90.0  \n",
       "89                    94.0  \n",
       "4629                   NaN  \n",
       "1828                  96.0  \n",
       "5286                  87.0  \n",
       "\n",
       "[1359 rows x 5 columns]"
      ]
     },
     "execution_count": 15,
     "metadata": {},
     "output_type": "execute_result"
    }
   ],
   "source": [
    "X_test.loc[:, X_test.isna().any()]"
   ]
  },
  {
   "cell_type": "code",
   "execution_count": 16,
   "metadata": {},
   "outputs": [
    {
     "data": {
      "text/plain": [
       "False"
      ]
     },
     "execution_count": 16,
     "metadata": {},
     "output_type": "execute_result"
    }
   ],
   "source": [
    "y_train.isna().any()"
   ]
  },
  {
   "cell_type": "code",
   "execution_count": 17,
   "metadata": {},
   "outputs": [
    {
     "data": {
      "text/plain": [
       "False"
      ]
     },
     "execution_count": 17,
     "metadata": {},
     "output_type": "execute_result"
    }
   ],
   "source": [
    "y_test.isna().any()"
   ]
  },
  {
   "cell_type": "code",
   "execution_count": 18,
   "metadata": {},
   "outputs": [
    {
     "name": "stderr",
     "output_type": "stream",
     "text": [
      "C:\\Users\\Tahsin\\Anaconda3\\envs\\py36\\lib\\site-packages\\pandas\\core\\indexing.py:966: SettingWithCopyWarning: \n",
      "A value is trying to be set on a copy of a slice from a DataFrame.\n",
      "Try using .loc[row_indexer,col_indexer] = value instead\n",
      "\n",
      "See the caveats in the documentation: https://pandas.pydata.org/pandas-docs/stable/user_guide/indexing.html#returning-a-view-versus-a-copy\n",
      "  self.obj[item] = s\n"
     ]
    }
   ],
   "source": [
    "X_train.loc[:, 'Host_response_time'] = X_train.loc[:, 'Host_response_time'].fillna(X_train['Host_response_time'].mode()[0])\n",
    "X_train.loc[:, 'Host_response_rate'] = X_train.loc[:, 'Host_response_rate'].fillna(X_train['Host_response_rate'].mode()[0])"
   ]
  },
  {
   "cell_type": "code",
   "execution_count": 19,
   "metadata": {},
   "outputs": [],
   "source": [
    "X_test.loc[:, 'Host_response_time'] = X_test.loc[:, 'Host_response_time'].fillna(X_train['Host_response_time'].mode()[0])\n",
    "X_test.loc[:, 'Host_response_rate'] = X_test.loc[:, 'Host_response_rate'].fillna(X_train['Host_response_rate'].mode()[0])"
   ]
  },
  {
   "cell_type": "code",
   "execution_count": 20,
   "metadata": {},
   "outputs": [],
   "source": [
    "X_train.loc[:, 'Bedrooms'] = X_train.loc[:, 'Bedrooms'].fillna(X_train['Bedrooms'].mean())\n",
    "X_train.loc[:, 'Beds'] = X_train.loc[:, 'Beds'].fillna(X_train['Beds'].mean())\n",
    "X_train.loc[:, 'Review_scores_rating'] = X_train.loc[:, 'Review_scores_rating'].fillna(X_train['Review_scores_rating'].mean())"
   ]
  },
  {
   "cell_type": "code",
   "execution_count": 21,
   "metadata": {},
   "outputs": [],
   "source": [
    "X_test.loc[:, 'Bedrooms'] = X_test.loc[:, 'Bedrooms'].fillna(X_train['Bedrooms'].mean())\n",
    "X_test.loc[:, 'Beds'] = X_test.loc[:, 'Beds'].fillna(X_train['Beds'].mean())\n",
    "X_test.loc[:, 'Review_scores_rating'] = X_test.loc[:, 'Review_scores_rating'].fillna(X_train['Review_scores_rating'].mean())\n",
    "X_test.loc[:, 'Bathrooms'] = X_test.loc[:, 'Bathrooms'].fillna(X_train['Bathrooms'].mean())"
   ]
  },
  {
   "cell_type": "markdown",
   "metadata": {},
   "source": [
    "### 1.3. Encoding categorical data "
   ]
  },
  {
   "cell_type": "code",
   "execution_count": 22,
   "metadata": {},
   "outputs": [],
   "source": [
    "ct = ColumnTransformer(transformers=[('encoder', OneHotEncoder(handle_unknown='ignore'), [0, 1, 2, 3])], remainder='passthrough')\n",
    "X_train = ct.fit_transform(X_train).toarray()\n",
    "X_test = ct.transform(X_test).toarray()"
   ]
  },
  {
   "cell_type": "markdown",
   "metadata": {},
   "source": [
    "### 1.4. Let's Train And Predict The Model"
   ]
  },
  {
   "cell_type": "code",
   "execution_count": 39,
   "metadata": {},
   "outputs": [
    {
     "data": {
      "text/plain": [
       "SVR(kernel='linear')"
      ]
     },
     "execution_count": 39,
     "metadata": {},
     "output_type": "execute_result"
    }
   ],
   "source": [
    "from sklearn.svm import SVR\n",
    "regressor = SVR(kernel = 'linear')\n",
    "regressor.fit(X_train, y_train)"
   ]
  },
  {
   "cell_type": "code",
   "execution_count": 40,
   "metadata": {},
   "outputs": [],
   "source": [
    "y_pred = regressor.predict(X_test)\n",
    "y_pred_train = regressor.predict(X_train)"
   ]
  },
  {
   "cell_type": "code",
   "execution_count": 41,
   "metadata": {},
   "outputs": [
    {
     "name": "stdout",
     "output_type": "stream",
     "text": [
      "We miss the price by the average of $57.123838412997046\n",
      "R-squared value is = 0.44020439213105367 for train\n",
      "R-squared value is = 0.4904218557352209 for test\n"
     ]
    }
   ],
   "source": [
    "rsquared_svr_model_train = r2_score(y_train, y_pred_train)\n",
    "rsquared_svr_model = r2_score(y_test, y_pred)\n",
    "rmse_svr_model = np.sqrt(mean_squared_error(y_test, y_pred))\n",
    "\n",
    "print(\"We miss the price by the average of ${0}\".format(rmse_svr_model))\n",
    "print(\"R-squared value is = {0} for train\".format(rsquared_svr_model_train))\n",
    "print(\"R-squared value is = {0} for test\".format(rsquared_svr_model))"
   ]
  },
  {
   "cell_type": "code",
   "execution_count": 43,
   "metadata": {},
   "outputs": [
    {
     "data": {
      "text/plain": [
       "RandomForestRegressor(n_estimators=50, random_state=21)"
      ]
     },
     "execution_count": 43,
     "metadata": {},
     "output_type": "execute_result"
    }
   ],
   "source": [
    "from sklearn.ensemble import RandomForestRegressor\n",
    "regressor = RandomForestRegressor(n_estimators = 50, random_state = 21)\n",
    "regressor.fit(X_train, y_train)"
   ]
  },
  {
   "cell_type": "code",
   "execution_count": 44,
   "metadata": {},
   "outputs": [],
   "source": [
    "y_pred = regressor.predict(X_test)\n",
    "y_pred_train = regressor.predict(X_train)"
   ]
  },
  {
   "cell_type": "code",
   "execution_count": 45,
   "metadata": {},
   "outputs": [
    {
     "name": "stdout",
     "output_type": "stream",
     "text": [
      "We miss the price by the average of $54.596142709452046\n",
      "R-squared value is = 0.9185667307381273 for train\n",
      "R-squared value is = 0.534521153396055 for test\n"
     ]
    }
   ],
   "source": [
    "rsquared_rf_model_train = r2_score(y_train, y_pred_train)\n",
    "rsquared_rf_model = r2_score(y_test, y_pred)\n",
    "rmse_rf_model = np.sqrt(mean_squared_error(y_test, y_pred))\n",
    "\n",
    "print(\"We miss the price by the average of ${0}\".format(rmse_rf_model))\n",
    "print(\"R-squared value is = {0} for train\".format(rsquared_rf_model_train))\n",
    "print(\"R-squared value is = {0} for test\".format(rsquared_rf_model))"
   ]
  },
  {
   "cell_type": "code",
   "execution_count": 46,
   "metadata": {},
   "outputs": [
    {
     "data": {
      "text/plain": [
       "GradientBoostingRegressor()"
      ]
     },
     "execution_count": 46,
     "metadata": {},
     "output_type": "execute_result"
    }
   ],
   "source": [
    "from sklearn.ensemble import GradientBoostingRegressor\n",
    "regressor = GradientBoostingRegressor()\n",
    "regressor.fit(X_train, y_train)"
   ]
  },
  {
   "cell_type": "code",
   "execution_count": 47,
   "metadata": {},
   "outputs": [],
   "source": [
    "y_pred = regressor.predict(X_test)\n",
    "y_pred_train = regressor.predict(X_train)"
   ]
  },
  {
   "cell_type": "code",
   "execution_count": 48,
   "metadata": {},
   "outputs": [
    {
     "name": "stdout",
     "output_type": "stream",
     "text": [
      "We miss the price by the average of $52.62726263249674\n",
      "R-squared value is = 0.5900311024368246 for train\n",
      "R-squared value is = 0.5674885679549404 for test\n"
     ]
    }
   ],
   "source": [
    "rsquared_gbr_model_train = r2_score(y_train, y_pred_train)\n",
    "rsquared_gbr_model = r2_score(y_test, y_pred)\n",
    "rmse_gbr_model = np.sqrt(mean_squared_error(y_test, y_pred))\n",
    "\n",
    "print(\"We miss the price by the average of ${0}\".format(rmse_gbr_model))\n",
    "print(\"R-squared value is = {0} for train\".format(rsquared_gbr_model_train))\n",
    "print(\"R-squared value is = {0} for test\".format(rsquared_gbr_model))"
   ]
  },
  {
   "cell_type": "code",
   "execution_count": 52,
   "metadata": {},
   "outputs": [
    {
     "data": {
      "image/png": "[encoded data removed]",
      "text/plain": [
       "<Figure size 432x288 with 1 Axes>"
      ]
     },
     "metadata": {
      "needs_background": "light"
     },
     "output_type": "display_data"
    }
   ],
   "source": [
    "plt.scatter(y_test, y_pred, color= \"green\", marker= \"*\", s=30) \n",
    "\n",
    "# x-axis label \n",
    "plt.xlabel('Real Prices') \n",
    "# y-axis label \n",
    "plt.ylabel('Predicted Prices') \n",
    "# plot title \n",
    "plt.title('Gradient Boosting Model Results')\n",
    "\n",
    "plt.savefig('GBR.png')"
   ]
  },
  {
   "cell_type": "code",
   "execution_count": 50,
   "metadata": {},
   "outputs": [
    {
     "data": {
      "image/png": "[encoded data removed]",
      "text/plain": [
       "<Figure size 432x288 with 1 Axes>"
      ]
     },
     "metadata": {
      "needs_background": "light"
     },
     "output_type": "display_data"
    }
   ],
   "source": [
    "train_scores = [rsquared_svr_model_train, rsquared_rf_model_train, rsquared_gbr_model_train]\n",
    "test_scores = [rsquared_svr_model, rsquared_rf_model, rsquared_gbr_model]\n",
    "labels = ['SVR', 'RandomForestRegressor', 'GradientBoostingRegressor']\n",
    "\n",
    "# plotting points as a scatter plot \n",
    "plt.scatter(labels, train_scores, color= \"green\", marker= \"+\", s=30) \n",
    "plt.scatter(labels, test_scores, color= \"red\", marker= \"*\", s=30) \n",
    "# x-axis label \n",
    "plt.xlabel('Algorithm') \n",
    "# y-axis label \n",
    "plt.ylabel('Score') \n",
    "# plot title \n",
    "plt.title('Scores Graph') \n",
    "# showing legend \n",
    "plt.legend(['train_score', 'test_score']) \n",
    "\n",
    "plt.savefig('Algorithm Comparison.png')"
   ]
  },
  {
   "cell_type": "markdown",
   "metadata": {},
   "source": [
    "Our models really fail to explain prices for different independent variables. Forecasts are independent from the reality. We should look for every variable by self and then try to decrease the error by adding new variables. However, with these variables we cannot explain the variability."
   ]
  },
  {
   "cell_type": "markdown",
   "metadata": {},
   "source": [
    "Even though the models don't look very promising, it is a very good start for us."
   ]
  },
  {
   "cell_type": "markdown",
   "metadata": {},
   "source": [
    "As you can see boosting perform better! Because of less data and much more independent variables, overfitting is inevitable for complex algorithms such as random forest. But boosting covers up for this problem much better! "
   ]
  }
 ],
 "metadata": {
  "kernelspec": {
   "display_name": "Python [conda env:py36] *",
   "language": "python",
   "name": "conda-env-py36-py"
  },
  "language_info": {
   "codemirror_mode": {
    "name": "ipython",
    "version": 3
   },
   "file_extension": ".py",
   "mimetype": "text/x-python",
   "name": "python",
   "nbconvert_exporter": "python",
   "pygments_lexer": "ipython3",
   "version": "3.6.10"
  }
 },
 "nbformat": 4,
 "nbformat_minor": 4
}
